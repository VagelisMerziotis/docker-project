{
 "cells": [
  {
   "cell_type": "code",
   "execution_count": 1,
   "id": "cb776d0c-158d-4039-a8a4-ba210d5db69b",
   "metadata": {},
   "outputs": [],
   "source": [
    "from kafka import KafkaProducer, KafkaConsumer\n",
    "import json"
   ]
  },
  {
   "cell_type": "code",
   "execution_count": 2,
   "id": "9dd7c0ea-1d7a-4386-98c3-7db25d41b7c2",
   "metadata": {},
   "outputs": [],
   "source": [
    "def test_kafka_producer_consumer(kafka_broker='localhost:9092', topic='test-topic'):\n",
    "    \"\"\"\n",
    "    Tests sending and receiving a message with Kafka using a producer and consumer\n",
    "    in the same Python script.\n",
    "\n",
    "    Args:\n",
    "        kafka_broker (str, optional): The Kafka broker address. Defaults to 'localhost:9092'.\n",
    "        topic (str, optional): The Kafka topic to use. Defaults to 'test-topic'.\n",
    "    \"\"\"\n",
    "    # 1. Producer\n",
    "    producer = KafkaProducer(\n",
    "        bootstrap_servers=kafka_broker,\n",
    "        value_serializer=lambda v: json.dumps(v).encode('utf-8')  # Serialize to JSON\n",
    "    )\n",
    "\n",
    "    # 2. Consumer\n",
    "    consumer = KafkaConsumer(\n",
    "        topic,\n",
    "        bootstrap_servers=kafka_broker,\n",
    "        auto_offset_reset='earliest',  # Start from the beginning\n",
    "        enable_auto_commit=True,\n",
    "        group_id='test-group'  # Important for consumer groups\n",
    "    )\n",
    "\n",
    "    try:\n",
    "        # Send a test message\n",
    "        test_message = {'key': 'test_key', 'value': 'test_value'}\n",
    "        print(f\"Producer: Sending message: {test_message}\")\n",
    "        producer.send(topic, test_message).get()  # .get() blocks until sent\n",
    "        print(\"Producer: Message sent successfully\")\n",
    "\n",
    "        # Consume the message\n",
    "        print(\"Consumer: Waiting for message...\")\n",
    "        for message in consumer:\n",
    "            received_message = message.value\n",
    "            print(f\"Consumer: Received message: {received_message}\")\n",
    "            break  # Exit loop after receiving one message\n",
    "\n",
    "        # Check if the received message matches the sent message\n",
    "        if received_message == test_message:\n",
    "            print(\"Test Passed: Message sent and received correctly!\")\n",
    "            return True\n",
    "        else:\n",
    "            print(\"Test Failed: Message mismatch!\")\n",
    "            print(f\"  Sent:     {test_message}\")\n",
    "            print(f\"  Received: {received_message}\")\n",
    "            return False\n",
    "\n",
    "    except Exception as e:\n",
    "        print(f\"Error during test: {e}\")\n",
    "        return False\n",
    "\n",
    "    finally:\n",
    "        producer.close()\n",
    "        consumer.close()"
   ]
  },
  {
   "cell_type": "code",
   "execution_count": 6,
   "id": "2a675074-2ec7-4849-9eb5-730280abcf11",
   "metadata": {},
   "outputs": [
    {
     "name": "stdout",
     "output_type": "stream",
     "text": [
      "Producer: Sending message: {'key': 'test_key', 'value': 'test_value'}\n",
      "Producer: Message sent successfully\n",
      "Consumer: Waiting for message...\n",
      "Consumer: Received message: b'{\"key\": \"test_key\", \"value\": \"test_value\"}'\n",
      "Test Failed: Message mismatch!\n",
      "  Sent:     {'key': 'test_key', 'value': 'test_value'}\n",
      "  Received: b'{\"key\": \"test_key\", \"value\": \"test_value\"}'\n",
      "Kafka Producer/Consumer test on topic 'my-test-topic' FAILED.\n"
     ]
    }
   ],
   "source": [
    "if __name__ == \"__main__\":\n",
    "    # You can change the broker and topic if needed\n",
    "    kafka_address = 'localhost:9092'  # Or your Kafka broker address\n",
    "    test_topic_name = 'my-test-topic'\n",
    "    test_result = test_kafka_producer_consumer(kafka_address, test_topic_name)\n",
    "\n",
    "    if test_result:\n",
    "        print(f\"Kafka Producer/Consumer test on topic '{test_topic_name}' PASSED.\")\n",
    "    else:\n",
    "        print(f\"Kafka Producer/Consumer test on topic '{test_topic_name}' FAILED.\")"
   ]
  },
  {
   "cell_type": "code",
   "execution_count": null,
   "id": "617b5190-d38d-4976-9708-4b775e986fca",
   "metadata": {},
   "outputs": [],
   "source": []
  },
  {
   "cell_type": "code",
   "execution_count": null,
   "id": "c962c244-48f9-4086-9ed9-d3b48cdcb56a",
   "metadata": {},
   "outputs": [],
   "source": []
  }
 ],
 "metadata": {
  "kernelspec": {
   "display_name": "Python 3 (ipykernel)",
   "language": "python",
   "name": "python3"
  },
  "language_info": {
   "codemirror_mode": {
    "name": "ipython",
    "version": 3
   },
   "file_extension": ".py",
   "mimetype": "text/x-python",
   "name": "python",
   "nbconvert_exporter": "python",
   "pygments_lexer": "ipython3",
   "version": "3.13.3"
  }
 },
 "nbformat": 4,
 "nbformat_minor": 5
}
